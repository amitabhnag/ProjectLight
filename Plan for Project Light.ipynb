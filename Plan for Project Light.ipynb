impo{
 "cells": [
  {
   "cell_type": "markdown",
   "metadata": {},
   "source": [
    "<img src=\"/kerosene-lamp-1202277_1920.jpg\" width=\"250\">\n",
    "##  Plan for \"Project Light\"\n",
    "#### Author: Amitabh Nag, amnag@uw.edu\n",
    "#### Program/Course: University of Washington - Masters in Data Science - Data 512 - Human Centered Data Science\n",
    "#### Revision: 1.0"
   ]
  },
  {
   "cell_type": "markdown",
   "metadata": {},
   "source": [
    "### Overview:\n",
    ">Education is a right just like right to have proper food and shelter. Education is also a passport to human development. Project Light aims to throw light upon factors affecting student performance in India\n",
    "\n",
    "In year 2000, Worlds governments adopted \"Education For All\" (EFA) resolution under the auspices of United Nations Educational, Scientific and Cultural Organization (UNESCO). One of the key goals under the EFA resolution is ensuring quality of education for all children. Here quality aspect is equally important if not more important than quantity. Without quality education, the goal of EFA may be fulfilled tactically, but not in its spirit. Throwing **light** upon the factors that affect quality of education in India is the goal of Project Light. Student performance is a key indicator of quality of education. Finding factors that affect student performance can help non-profit, government and industry to focus on improving those factors and hence improving the quality of education. Choice of this project is influenced by the potential of \"social impact\", a core tenet of human centerd design. India is a developing country, home to 1.3 Billion people and 390 Million children. Due to my own experience with Indian education system, this project is focused on education in India. "
   ]
  },
  {
   "cell_type": "markdown",
   "metadata": {},
   "source": [
    "### Project Light research question and hypothesis:\n",
    "* Q1 What are the factors that affect student's performance as measured by reading, writing and math skills in India?\n",
    "* H1 These are two most significant factors that affect student performance in India: \n",
    "    * School type - Government vs private school \n",
    "    * Parents income"
   ]
  },
  {
   "cell_type": "markdown",
   "metadata": {},
   "source": [
    "### Data Sources and Preparation:\n",
    "An extensive search for data resulted in two sources that can possibly help in answering above question. Both sources are results of pan India surveys. Plan to use the first data source from ICPSR/IHDS for this project. The second (Pratham) data source will act as a backup in case of any issues with ICPSR/IHDS data source\n",
    "\n",
    "#### Data Source 1: Inter-university Consortium for Political and Social Research (ICPSR) - India Human Development Survey (IHDS), 2005\n",
    "<http://www.icpsr.umich.edu/icpsrweb/DSDR/studies/22626>\n",
    "\n",
    "The India Human Development Survey, 2005 (IHDS) is a nationally representative, multi-topic survey of 41,554 households in 1,504 villages and 970 urban neighborhoods across India. Two one hour interviews in each household covered topics concerning health, education, employment, economic status, marriage, fertility, gender relations, and social capital. IHDS was conducted in all states and union territories of India (with the exception of Andaman & Nicobar and Lakshadweep).Short reading, writing, and arithmetic knowledge tests were administered to all available children aged 8-11 in the household.\n",
    "\n",
    "Note that a 2011 version of this survey dubbed as IHDS-II is also available. However, as per documentation it is incomplete at this stage and hence planning to use the 2005 survey results.\n",
    "\n",
    "* Data files: \n",
    "   * Household survey data: 22626-0002-Data.tsv\n",
    "   * Individual survey data: 22626-0001-Data.tsv\n",
    "   * School survey data: 22626-0005-Data.tsv\n",
    "* Data format: tab separated value (.tsv) (other formats also available) \n",
    "* Documentation: Codebook containing features and possible values, survey questionnaire, data guide containing survey methodology and feature naming format   \n",
    "* Data access: ICPSR terms of use\n",
    "\n",
    "\n",
    "#### Data Source 2: Harvard Dataverse - Pratham Information Project -- Read India \n",
    "<https://dataverse.harvard.edu/dataset.xhtml?persistentId=hdl:1902.1/13084&version=1.0> \n",
    "\n",
    "Pratham data source contains both observations from pre-treatment (“baseline”) and during treatment (“midline”). Surveys differ slightly from baseline to midline, and these changes are reflected in the different surveys that exist for baseline and midline. Each data set has a variable called \"surveyround\", which takes the value of 1 for the baseline and 2 for the midline. Most but not all of the data files have identifier variables which allow tracking of observations from baseline to midline.\n",
    "\n",
    "* Data files: \n",
    "   * childtest.tab - This data is tests of children’s reading and math ability. It was done both in school visits and during the household survey. The variable fromsurvey tells where the testing was done. Data from both the household survey and school visit testing has been merged together to form this dataset. \n",
    "   * householdsurvey.tab, householdsurveychild.tab, householdsurveyschool.tab - This survey was done of households, asking information on the household, parents, children, and schools. This also includes testing of children’s math and reading ability \n",
    "   * schoolsurvey.tab - These are questions asked to school supervisors, including information about the school and each of the teachers\n",
    "   * schoolsurveyteacher.tab - These are questions asked to school supervisors, including information about the school and each of the teachers\n",
    "   * schoolobservation.tab - This is a form that surveyors fill out as they observe the school.\n",
    "\n",
    "* Data format: tab delimited text file (.tab)\n",
    "* Documentation: Codebooks of the data and the corresponding questionnaires\n",
    "* Data access: Available under CC-0"
   ]
  },
  {
   "cell_type": "markdown",
   "metadata": {},
   "source": [
    "### Analytical methods and tools:\n",
    "* Excel - exploratory data analysis\n",
    "* Python, Jupyter Notebook\n",
    "* Analytical process will be iterative and involve following stages: Question framing -> hypothesis identification -> data acquisition -> data processing -> data analysis -> Insights\n",
    "* Train a linear regression model and analyze the coefficients to find the significant factors. Use Scikit learn package for linear regression. Will require converting categorical variables to numeric variables. p-value will be used as a way to identify important factors "
   ]
  },
  {
   "cell_type": "markdown",
   "metadata": {},
   "source": [
    "### Limitations:\n",
    "* ICPSR/IHDS data is very well structured; however, student data is a part of the larger human development study. As per documentation, only students aged 8-11 are covered in the performance assessment. This will limit generalizing the findings of the factors across all age groups \n",
    "* ICPSR/IHDS data does not contain direct linkages between the primary school data and the household or individual data. As per documentation a user can aggregate the school data to the PSUID (Person Unique Id) or DISTID (District Id) level and integrate them with the household or individual data to investigate the educational context of the household or individual. However, this will be an \"approximate join\". Analysis that depends upon this approximate join will need to account for this approximation    \n",
    "* ICPSR/IHDS data has two versions: 2005 and 2011. As per documentation, 2011 version is incomplete and hence 2005 survey is currently planned to be used\n",
    "* ICPSR/IHDS testing include reading, writing and math abilites. Pratham data only include reading and math testing \n",
    "* Both surveys suffer from using strict definitions of gender and does not account for LGBTQ gender categories\n",
    "* ICPSR/IHDS data has empty values for multiple columns\n",
    "* Pratham data source has lots of NAs\n",
    "* Both sources use canned survey questions. Open ended questions are desirable as they may reveal additional insights or factors that the survey designers may not have conceived \n",
    "* Both data sources are spread among multiple files. This adds extra burden to join and may cause errors due to an incorrect join\n",
    "\n",
    "### Open Questions:\n",
    "* Which data source between ICPSR/IHDS and Pratham to choose? This will largely depend on quality of joins between data files. Currently planning to use ICPSR/IHDS 2005 data source\n",
    "* If using ICPSR/IHDS data, will there be any limitations in sharing original data, modified data and the analysis due to ICPSR terms of use?\n",
    "* Each data source contains multiple data files. Need to identify which specific files are relevant for analysis? \n",
    "* Does the data source contain enough clean data to answer the project question?\n",
    "* Is there a bias in the questionnaire? Are questions biased to get a specific answer? \n"
   ]
  },
  {
   "cell_type": "markdown",
   "metadata": {},
   "source": [
    "### Project deliverables:\n",
    "* Python notebook with analysis and regression model\n",
    "* Original data set (this may be subject to ICPSR terms of use) and link to the data set\n",
    "* Modified data set\n",
    "* Readme file\n",
    "* MIT License file\n",
    "* Data, code and documentation to be uploaded on Git-hub"
   ]
  },
  {
   "cell_type": "markdown",
   "metadata": {},
   "source": [
    "### References:\n",
    "\n",
    "* Project Light image available under CC0 from <https://pixabay.com/en/kerosene-lamp-old-replacement-lamp-1202277/>\n",
    "* Project Light Overview content is courtesy of United Nations: <http://www.un.org/en/sections/issues-depth/education/index.html>\n",
    "* ICPSR/IHDS 2005 data  <http://www.icpsr.umich.edu/icpsrweb/content/DSDR/idhs-data-guide.html>\n",
    "* ICPSR/IHDS 2011 data <http://www.icpsr.umich.edu/icpsrweb/content/DSDR/idhs-II-data-guide.html>\n",
    "* Harvard Dataverse - Pratham Information Project - Read India source <https://dataverse.harvard.edu/dataset.xhtml?persistentId=hdl:1902.1/13084&version=1.0>\n",
    "* Article published based on Pratham data source - <https://economics.mit.edu/files/3117> \n"
   ]
  }
 ],
 "metadata": {
  "kernelspec": {
   "display_name": "Python 3",
   "language": "python",
   "name": "python3"
  },
  "language_info": {
   "codemirror_mode": {
    "name": "ipython",
    "version": 3
   },
   "file_extension": ".py",
   "mimetype": "text/x-python",
   "name": "python",
   "nbconvert_exporter": "python",
   "pygments_lexer": "ipython3",
   "version": "3.6.0"
  }
 },
 "nbformat": 4,
 "nbformat_minor": 2
}
